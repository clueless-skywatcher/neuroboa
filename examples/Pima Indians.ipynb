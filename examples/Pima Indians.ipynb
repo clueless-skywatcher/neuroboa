{
 "cells": [
  {
   "cell_type": "code",
   "execution_count": 2,
   "metadata": {},
   "outputs": [
    {
     "data": {
      "text/html": [
       "<div>\n",
       "<style scoped>\n",
       "    .dataframe tbody tr th:only-of-type {\n",
       "        vertical-align: middle;\n",
       "    }\n",
       "\n",
       "    .dataframe tbody tr th {\n",
       "        vertical-align: top;\n",
       "    }\n",
       "\n",
       "    .dataframe thead th {\n",
       "        text-align: right;\n",
       "    }\n",
       "</style>\n",
       "<table border=\"1\" class=\"dataframe\">\n",
       "  <thead>\n",
       "    <tr style=\"text-align: right;\">\n",
       "      <th></th>\n",
       "      <th>0</th>\n",
       "      <th>1</th>\n",
       "      <th>2</th>\n",
       "      <th>3</th>\n",
       "      <th>4</th>\n",
       "      <th>5</th>\n",
       "      <th>6</th>\n",
       "      <th>7</th>\n",
       "      <th>8</th>\n",
       "    </tr>\n",
       "  </thead>\n",
       "  <tbody>\n",
       "    <tr>\n",
       "      <th>0</th>\n",
       "      <td>6</td>\n",
       "      <td>148</td>\n",
       "      <td>72</td>\n",
       "      <td>35</td>\n",
       "      <td>0</td>\n",
       "      <td>33.6</td>\n",
       "      <td>0.627</td>\n",
       "      <td>50</td>\n",
       "      <td>1</td>\n",
       "    </tr>\n",
       "    <tr>\n",
       "      <th>1</th>\n",
       "      <td>1</td>\n",
       "      <td>85</td>\n",
       "      <td>66</td>\n",
       "      <td>29</td>\n",
       "      <td>0</td>\n",
       "      <td>26.6</td>\n",
       "      <td>0.351</td>\n",
       "      <td>31</td>\n",
       "      <td>0</td>\n",
       "    </tr>\n",
       "    <tr>\n",
       "      <th>2</th>\n",
       "      <td>8</td>\n",
       "      <td>183</td>\n",
       "      <td>64</td>\n",
       "      <td>0</td>\n",
       "      <td>0</td>\n",
       "      <td>23.3</td>\n",
       "      <td>0.672</td>\n",
       "      <td>32</td>\n",
       "      <td>1</td>\n",
       "    </tr>\n",
       "    <tr>\n",
       "      <th>3</th>\n",
       "      <td>1</td>\n",
       "      <td>89</td>\n",
       "      <td>66</td>\n",
       "      <td>23</td>\n",
       "      <td>94</td>\n",
       "      <td>28.1</td>\n",
       "      <td>0.167</td>\n",
       "      <td>21</td>\n",
       "      <td>0</td>\n",
       "    </tr>\n",
       "    <tr>\n",
       "      <th>4</th>\n",
       "      <td>0</td>\n",
       "      <td>137</td>\n",
       "      <td>40</td>\n",
       "      <td>35</td>\n",
       "      <td>168</td>\n",
       "      <td>43.1</td>\n",
       "      <td>2.288</td>\n",
       "      <td>33</td>\n",
       "      <td>1</td>\n",
       "    </tr>\n",
       "  </tbody>\n",
       "</table>\n",
       "</div>"
      ],
      "text/plain": [
       "   0    1   2   3    4     5      6   7  8\n",
       "0  6  148  72  35    0  33.6  0.627  50  1\n",
       "1  1   85  66  29    0  26.6  0.351  31  0\n",
       "2  8  183  64   0    0  23.3  0.672  32  1\n",
       "3  1   89  66  23   94  28.1  0.167  21  0\n",
       "4  0  137  40  35  168  43.1  2.288  33  1"
      ]
     },
     "execution_count": 2,
     "metadata": {},
     "output_type": "execute_result"
    }
   ],
   "source": [
    "import pandas as pd\n",
    "data = pd.read_csv(\"pima-indians-diabetes.data.csv\", header = None)\n",
    "data.head()"
   ]
  },
  {
   "cell_type": "code",
   "execution_count": 3,
   "metadata": {},
   "outputs": [
    {
     "data": {
      "text/plain": [
       "((768, 8), (768,))"
      ]
     },
     "execution_count": 3,
     "metadata": {},
     "output_type": "execute_result"
    }
   ],
   "source": [
    "X = data.iloc[:, :-1]\n",
    "y = data.iloc[:, 8]\n",
    "X.shape, y.shape"
   ]
  },
  {
   "cell_type": "code",
   "execution_count": 4,
   "metadata": {},
   "outputs": [],
   "source": [
    "from neuroboa.nn import NN\n",
    "from neuroboa.layers import Dense, Activation\n",
    "from neuroboa.optims import Adam, SGD, Adagrad\n",
    "from neuroboa.functions import ReLU, Sigmoid, Swish, Softmax, Tanh\n",
    "from neuroboa.losses import BinaryCrossEntropy, MSE\n",
    "from neuroboa.constants import TQDM_NOTEBOOK, TQDM_TERMINAL"
   ]
  },
  {
   "cell_type": "code",
   "execution_count": 5,
   "metadata": {},
   "outputs": [
    {
     "data": {
      "text/plain": [
       "array([[ 0.63994726,  0.84832379,  0.14964075, ...,  0.20401277,\n",
       "         0.46849198,  1.4259954 ],\n",
       "       [-0.84488505, -1.12339636, -0.16054575, ..., -0.68442195,\n",
       "        -0.36506078, -0.19067191],\n",
       "       [ 1.23388019,  1.94372388, -0.26394125, ..., -1.10325546,\n",
       "         0.60439732, -0.10558415],\n",
       "       ...,\n",
       "       [ 0.3429808 ,  0.00330087,  0.14964075, ..., -0.73518964,\n",
       "        -0.68519336, -0.27575966],\n",
       "       [-0.84488505,  0.1597866 , -0.47073225, ..., -0.24020459,\n",
       "        -0.37110101,  1.17073215],\n",
       "       [-0.84488505, -0.8730192 ,  0.04624525, ..., -0.20212881,\n",
       "        -0.47378505, -0.87137393]])"
      ]
     },
     "execution_count": 5,
     "metadata": {},
     "output_type": "execute_result"
    }
   ],
   "source": [
    "from sklearn.preprocessing import OneHotEncoder, StandardScaler\n",
    "one_hot = OneHotEncoder()\n",
    "fit = one_hot.fit(y.values.reshape(-1, 1))\n",
    "labels = fit.transform(y.values.reshape(-1, 1))\n",
    "labels.toarray()\n",
    "\n",
    "scaler = StandardScaler()\n",
    "X = scaler.fit_transform(X)\n",
    "X"
   ]
  },
  {
   "cell_type": "code",
   "execution_count": 6,
   "metadata": {},
   "outputs": [],
   "source": [
    "from sklearn.model_selection import train_test_split\n",
    "\n",
    "X_tr, X_t, y_tr, y_t = train_test_split(X, labels.toarray(), test_size = 0.33, random_state = 42)"
   ]
  },
  {
   "cell_type": "code",
   "execution_count": 7,
   "metadata": {},
   "outputs": [
    {
     "data": {
      "text/plain": [
       "(514, 2)"
      ]
     },
     "execution_count": 7,
     "metadata": {},
     "output_type": "execute_result"
    }
   ],
   "source": [
    "y_tr.shape"
   ]
  },
  {
   "cell_type": "code",
   "execution_count": 12,
   "metadata": {},
   "outputs": [
    {
     "name": "stderr",
     "output_type": "stream",
     "text": [
      "Epoch: 150: 100%|██████████████████████████████████████████████████████████████████████████████████████████████████| 150/150 [00:03<00:00, 48.95it/s]\n"
     ]
    }
   ],
   "source": [
    "nn = NN([\n",
    "    Dense(1000, input_shape = (8, )),\n",
    "    Activation(ReLU()),\n",
    "    Dense(100),\n",
    "    Activation(Tanh()),\n",
    "    Dense(500),\n",
    "    Activation(ReLU()),\n",
    "    Dense(2),\n",
    "    Activation(Sigmoid())\n",
    "])\n",
    "\n",
    "nn.fit(X_tr, y_tr, epochs = 150, batch_size = 10, optimizer = Adam(), loss = BinaryCrossEntropy(), show_progress = TQDM_TERMINAL)"
   ]
  },
  {
   "cell_type": "code",
   "execution_count": 16,
   "metadata": {},
   "outputs": [
    {
     "name": "stdout",
     "output_type": "stream",
     "text": [
      "Plot: True\n"
     ]
    },
    {
     "data": {
      "text/plain": [
       "[<matplotlib.lines.Line2D at 0x22ff8bc7940>]"
      ]
     },
     "execution_count": 16,
     "metadata": {},
     "output_type": "execute_result"
    },
    {
     "data": {
      "image/png": "[encoded data removed]",
      "text/plain": [
       "<Figure size 432x288 with 1 Axes>"
      ]
     },
     "metadata": {
      "needs_background": "light"
     },
     "output_type": "display_data"
    }
   ],
   "source": [
    "import matplotlib.pyplot as plt\n",
    "import numpy as np\n",
    "loss_list = nn.get_loss_list()\n",
    "plt.plot(range(len(loss_list)), loss_list)"
   ]
  },
  {
   "cell_type": "code",
   "execution_count": 9,
   "metadata": {},
   "outputs": [
    {
     "name": "stderr",
     "output_type": "stream",
     "text": [
      "Using TensorFlow backend.\n"
     ]
    },
    {
     "name": "stdout",
     "output_type": "stream",
     "text": [
      "WARNING:tensorflow:From D:\\Anaconda\\envs\\torchenv\\lib\\site-packages\\tensorflow\\python\\ops\\nn_impl.py:180: add_dispatch_support.<locals>.wrapper (from tensorflow.python.ops.array_ops) is deprecated and will be removed in a future version.\n",
      "Instructions for updating:\n",
      "Use tf.where in 2.0, which has the same broadcast rule as np.where\n",
      "WARNING:tensorflow:From D:\\Anaconda\\envs\\torchenv\\lib\\site-packages\\keras\\backend\\tensorflow_backend.py:422: The name tf.global_variables is deprecated. Please use tf.compat.v1.global_variables instead.\n",
      "\n",
      "Epoch 1/150\n",
      " - 1s - loss: 0.5429 - binary_accuracy: 0.7325\n",
      "Epoch 2/150\n",
      " - 0s - loss: 0.4486 - binary_accuracy: 0.7753\n",
      "Epoch 3/150\n",
      " - 0s - loss: 0.4336 - binary_accuracy: 0.7899\n",
      "Epoch 4/150\n",
      " - 0s - loss: 0.4172 - binary_accuracy: 0.7986\n",
      "Epoch 5/150\n",
      " - 0s - loss: 0.4087 - binary_accuracy: 0.7986\n",
      "Epoch 6/150\n",
      " - 0s - loss: 0.4033 - binary_accuracy: 0.8132\n",
      "Epoch 7/150\n",
      " - 0s - loss: 0.3962 - binary_accuracy: 0.8113\n",
      "Epoch 8/150\n",
      " - 0s - loss: 0.3859 - binary_accuracy: 0.8093\n",
      "Epoch 9/150\n",
      " - 0s - loss: 0.3844 - binary_accuracy: 0.8123\n",
      "Epoch 10/150\n",
      " - 0s - loss: 0.3694 - binary_accuracy: 0.8142\n",
      "Epoch 11/150\n",
      " - 0s - loss: 0.3681 - binary_accuracy: 0.8181\n",
      "Epoch 12/150\n",
      " - 0s - loss: 0.3582 - binary_accuracy: 0.8220\n",
      "Epoch 13/150\n",
      " - 0s - loss: 0.3579 - binary_accuracy: 0.8327\n",
      "Epoch 14/150\n",
      " - 0s - loss: 0.3441 - binary_accuracy: 0.8346\n",
      "Epoch 15/150\n",
      " - 0s - loss: 0.3461 - binary_accuracy: 0.8385\n",
      "Epoch 16/150\n",
      " - 0s - loss: 0.3320 - binary_accuracy: 0.8492\n",
      "Epoch 17/150\n",
      " - 0s - loss: 0.3261 - binary_accuracy: 0.8492\n",
      "Epoch 18/150\n",
      " - 0s - loss: 0.3209 - binary_accuracy: 0.8619\n",
      "Epoch 19/150\n",
      " - 0s - loss: 0.3130 - binary_accuracy: 0.8658\n",
      "Epoch 20/150\n",
      " - 0s - loss: 0.3105 - binary_accuracy: 0.8755\n",
      "Epoch 21/150\n",
      " - 0s - loss: 0.2996 - binary_accuracy: 0.8609\n",
      "Epoch 22/150\n",
      " - 0s - loss: 0.2931 - binary_accuracy: 0.8813\n",
      "Epoch 23/150\n",
      " - 0s - loss: 0.2819 - binary_accuracy: 0.8804\n",
      "Epoch 24/150\n",
      " - 0s - loss: 0.2846 - binary_accuracy: 0.8813\n",
      "Epoch 25/150\n",
      " - 0s - loss: 0.2711 - binary_accuracy: 0.8881\n",
      "Epoch 26/150\n",
      " - 0s - loss: 0.2647 - binary_accuracy: 0.8823\n",
      "Epoch 27/150\n",
      " - 0s - loss: 0.2530 - binary_accuracy: 0.8920\n",
      "Epoch 28/150\n",
      " - 0s - loss: 0.2545 - binary_accuracy: 0.8852\n",
      "Epoch 29/150\n",
      " - 0s - loss: 0.2378 - binary_accuracy: 0.9066\n",
      "Epoch 30/150\n",
      " - 0s - loss: 0.2367 - binary_accuracy: 0.9056\n",
      "Epoch 31/150\n",
      " - 0s - loss: 0.2265 - binary_accuracy: 0.9173\n",
      "Epoch 32/150\n",
      " - 0s - loss: 0.2206 - binary_accuracy: 0.9037\n",
      "Epoch 33/150\n",
      " - 0s - loss: 0.2187 - binary_accuracy: 0.9125\n",
      "Epoch 34/150\n",
      " - 0s - loss: 0.2152 - binary_accuracy: 0.9134\n",
      "Epoch 35/150\n",
      " - 0s - loss: 0.2093 - binary_accuracy: 0.9212\n",
      "Epoch 36/150\n",
      " - 0s - loss: 0.1944 - binary_accuracy: 0.9232\n",
      "Epoch 37/150\n",
      " - 0s - loss: 0.1881 - binary_accuracy: 0.9290\n",
      "Epoch 38/150\n",
      " - 0s - loss: 0.1836 - binary_accuracy: 0.9154\n",
      "Epoch 39/150\n",
      " - 0s - loss: 0.1744 - binary_accuracy: 0.9270\n",
      "Epoch 40/150\n",
      " - 0s - loss: 0.1717 - binary_accuracy: 0.9309\n",
      "Epoch 41/150\n",
      " - 0s - loss: 0.1632 - binary_accuracy: 0.9377\n",
      "Epoch 42/150\n",
      " - 0s - loss: 0.1562 - binary_accuracy: 0.9368\n",
      "Epoch 43/150\n",
      " - 0s - loss: 0.1471 - binary_accuracy: 0.9446\n",
      "Epoch 44/150\n",
      " - 0s - loss: 0.1430 - binary_accuracy: 0.9465\n",
      "Epoch 45/150\n",
      " - 0s - loss: 0.1375 - binary_accuracy: 0.9514\n",
      "Epoch 46/150\n",
      " - 0s - loss: 0.1339 - binary_accuracy: 0.9446\n",
      "Epoch 47/150\n",
      " - 0s - loss: 0.1314 - binary_accuracy: 0.9533\n",
      "Epoch 48/150\n",
      " - 0s - loss: 0.1271 - binary_accuracy: 0.9553\n",
      "Epoch 49/150\n",
      " - 0s - loss: 0.1260 - binary_accuracy: 0.9553\n",
      "Epoch 50/150\n",
      " - 0s - loss: 0.1087 - binary_accuracy: 0.9679\n",
      "Epoch 51/150\n",
      " - 0s - loss: 0.1125 - binary_accuracy: 0.9572\n",
      "Epoch 52/150\n",
      " - 0s - loss: 0.1085 - binary_accuracy: 0.9640\n",
      "Epoch 53/150\n",
      " - 0s - loss: 0.0949 - binary_accuracy: 0.9728\n",
      "Epoch 54/150\n",
      " - 0s - loss: 0.0951 - binary_accuracy: 0.9708\n",
      "Epoch 55/150\n",
      " - 0s - loss: 0.0905 - binary_accuracy: 0.9708\n",
      "Epoch 56/150\n",
      " - 0s - loss: 0.0875 - binary_accuracy: 0.9708\n",
      "Epoch 57/150\n",
      " - 0s - loss: 0.0807 - binary_accuracy: 0.9825\n",
      "Epoch 58/150\n",
      " - 0s - loss: 0.0852 - binary_accuracy: 0.9747\n",
      "Epoch 59/150\n",
      " - 0s - loss: 0.0784 - binary_accuracy: 0.9718\n",
      "Epoch 60/150\n",
      " - 0s - loss: 0.0716 - binary_accuracy: 0.9815\n",
      "Epoch 61/150\n",
      " - 0s - loss: 0.0693 - binary_accuracy: 0.9844\n",
      "Epoch 62/150\n",
      " - 0s - loss: 0.0681 - binary_accuracy: 0.9825\n",
      "Epoch 63/150\n",
      " - 0s - loss: 0.0630 - binary_accuracy: 0.9825\n",
      "Epoch 64/150\n",
      " - 0s - loss: 0.0608 - binary_accuracy: 0.9864\n",
      "Epoch 65/150\n",
      " - 0s - loss: 0.0609 - binary_accuracy: 0.9815\n",
      "Epoch 66/150\n",
      " - 0s - loss: 0.0637 - binary_accuracy: 0.9767\n",
      "Epoch 67/150\n",
      " - 0s - loss: 0.0626 - binary_accuracy: 0.9805\n",
      "Epoch 68/150\n",
      " - 0s - loss: 0.0519 - binary_accuracy: 0.9883\n",
      "Epoch 69/150\n",
      " - 0s - loss: 0.0498 - binary_accuracy: 0.9893\n",
      "Epoch 70/150\n",
      " - 0s - loss: 0.0517 - binary_accuracy: 0.9854\n",
      "Epoch 71/150\n",
      " - 0s - loss: 0.0493 - binary_accuracy: 0.9922\n",
      "Epoch 72/150\n",
      " - 0s - loss: 0.0427 - binary_accuracy: 0.9942\n",
      "Epoch 73/150\n",
      " - 0s - loss: 0.0383 - binary_accuracy: 0.9961\n",
      "Epoch 74/150\n",
      " - 0s - loss: 0.0418 - binary_accuracy: 0.9903\n",
      "Epoch 75/150\n",
      " - 0s - loss: 0.0369 - binary_accuracy: 0.9942\n",
      "Epoch 76/150\n",
      " - 0s - loss: 0.0363 - binary_accuracy: 0.9942\n",
      "Epoch 77/150\n",
      " - 0s - loss: 0.0335 - binary_accuracy: 0.9961\n",
      "Epoch 78/150\n",
      " - 0s - loss: 0.0295 - binary_accuracy: 0.9981\n",
      "Epoch 79/150\n",
      " - 0s - loss: 0.0320 - binary_accuracy: 0.9961\n",
      "Epoch 80/150\n",
      " - 0s - loss: 0.0343 - binary_accuracy: 0.9942\n",
      "Epoch 81/150\n",
      " - 0s - loss: 0.0302 - binary_accuracy: 0.9942\n",
      "Epoch 82/150\n",
      " - 0s - loss: 0.0268 - binary_accuracy: 0.9961\n",
      "Epoch 83/150\n",
      " - 0s - loss: 0.0273 - binary_accuracy: 0.9961\n",
      "Epoch 84/150\n",
      " - 0s - loss: 0.0227 - binary_accuracy: 0.9961\n",
      "Epoch 85/150\n",
      " - 0s - loss: 0.0214 - binary_accuracy: 0.9981\n",
      "Epoch 86/150\n",
      " - 0s - loss: 0.0212 - binary_accuracy: 0.9961\n",
      "Epoch 87/150\n",
      " - 0s - loss: 0.0198 - binary_accuracy: 0.9961\n",
      "Epoch 88/150\n",
      " - 0s - loss: 0.0195 - binary_accuracy: 0.9961\n",
      "Epoch 89/150\n",
      " - 0s - loss: 0.0189 - binary_accuracy: 0.9981\n",
      "Epoch 90/150\n",
      " - 0s - loss: 0.0174 - binary_accuracy: 0.9981\n",
      "Epoch 91/150\n",
      " - 0s - loss: 0.0174 - binary_accuracy: 0.9981\n",
      "Epoch 92/150\n",
      " - 0s - loss: 0.0162 - binary_accuracy: 0.9981\n",
      "Epoch 93/150\n",
      " - 0s - loss: 0.0147 - binary_accuracy: 0.9961\n",
      "Epoch 94/150\n",
      " - 0s - loss: 0.0172 - binary_accuracy: 0.9961\n",
      "Epoch 95/150\n",
      " - 0s - loss: 0.0154 - binary_accuracy: 0.9981\n",
      "Epoch 96/150\n",
      " - 0s - loss: 0.0135 - binary_accuracy: 0.9981\n",
      "Epoch 97/150\n",
      " - 0s - loss: 0.0139 - binary_accuracy: 0.9981\n",
      "Epoch 98/150\n",
      " - 0s - loss: 0.0133 - binary_accuracy: 0.9981\n",
      "Epoch 99/150\n",
      " - 0s - loss: 0.0128 - binary_accuracy: 0.9981\n",
      "Epoch 100/150\n",
      " - 0s - loss: 0.0118 - binary_accuracy: 1.0000\n",
      "Epoch 101/150\n",
      " - 0s - loss: 0.0110 - binary_accuracy: 0.9981\n",
      "Epoch 102/150\n",
      " - 0s - loss: 0.0101 - binary_accuracy: 1.0000\n",
      "Epoch 103/150\n",
      " - 0s - loss: 0.0100 - binary_accuracy: 1.0000\n",
      "Epoch 104/150\n",
      " - 0s - loss: 0.0106 - binary_accuracy: 0.9981\n",
      "Epoch 105/150\n",
      " - 0s - loss: 0.0102 - binary_accuracy: 0.9981\n",
      "Epoch 106/150\n",
      " - 0s - loss: 0.0097 - binary_accuracy: 0.9981\n",
      "Epoch 107/150\n",
      " - 0s - loss: 0.0091 - binary_accuracy: 0.9981\n",
      "Epoch 108/150\n",
      " - 0s - loss: 0.0099 - binary_accuracy: 1.0000\n",
      "Epoch 109/150\n",
      " - 0s - loss: 0.0095 - binary_accuracy: 0.9981\n",
      "Epoch 110/150\n",
      " - 0s - loss: 0.0090 - binary_accuracy: 1.0000\n",
      "Epoch 111/150\n",
      " - 0s - loss: 0.0082 - binary_accuracy: 0.9981\n",
      "Epoch 112/150\n",
      " - 0s - loss: 0.0086 - binary_accuracy: 0.9981\n",
      "Epoch 113/150\n",
      " - 0s - loss: 0.0080 - binary_accuracy: 1.0000\n",
      "Epoch 114/150\n",
      " - 0s - loss: 0.0074 - binary_accuracy: 1.0000\n",
      "Epoch 115/150\n",
      " - 0s - loss: 0.0070 - binary_accuracy: 1.0000\n",
      "Epoch 116/150\n",
      " - 0s - loss: 0.0097 - binary_accuracy: 0.9981\n",
      "Epoch 117/150\n",
      " - 0s - loss: 0.0070 - binary_accuracy: 1.0000\n",
      "Epoch 118/150\n",
      " - 0s - loss: 0.0072 - binary_accuracy: 1.0000\n",
      "Epoch 119/150\n",
      " - 0s - loss: 0.0069 - binary_accuracy: 1.0000\n",
      "Epoch 120/150\n",
      " - 0s - loss: 0.0070 - binary_accuracy: 1.0000\n",
      "Epoch 121/150\n",
      " - 0s - loss: 0.0065 - binary_accuracy: 1.0000\n",
      "Epoch 122/150\n",
      " - 0s - loss: 0.0066 - binary_accuracy: 0.9981\n",
      "Epoch 123/150\n",
      " - 0s - loss: 0.0063 - binary_accuracy: 1.0000\n",
      "Epoch 124/150\n",
      " - 0s - loss: 0.0059 - binary_accuracy: 1.0000\n",
      "Epoch 125/150\n",
      " - 0s - loss: 0.0057 - binary_accuracy: 1.0000\n",
      "Epoch 126/150\n",
      " - 0s - loss: 0.0058 - binary_accuracy: 0.9990\n",
      "Epoch 127/150\n",
      " - 0s - loss: 0.0059 - binary_accuracy: 1.0000\n",
      "Epoch 128/150\n",
      " - 0s - loss: 0.0052 - binary_accuracy: 1.0000\n"
     ]
    },
    {
     "name": "stdout",
     "output_type": "stream",
     "text": [
      "Epoch 129/150\n",
      " - 0s - loss: 0.0051 - binary_accuracy: 1.0000\n",
      "Epoch 130/150\n",
      " - 0s - loss: 0.0053 - binary_accuracy: 1.0000\n",
      "Epoch 131/150\n",
      " - 0s - loss: 0.0054 - binary_accuracy: 1.0000\n",
      "Epoch 132/150\n",
      " - 0s - loss: 0.0049 - binary_accuracy: 1.0000\n",
      "Epoch 133/150\n",
      " - 0s - loss: 0.0049 - binary_accuracy: 1.0000\n",
      "Epoch 134/150\n",
      " - 0s - loss: 0.0046 - binary_accuracy: 1.0000\n",
      "Epoch 135/150\n",
      " - 0s - loss: 0.0049 - binary_accuracy: 1.0000\n",
      "Epoch 136/150\n",
      " - 0s - loss: 0.0045 - binary_accuracy: 1.0000\n",
      "Epoch 137/150\n",
      " - 0s - loss: 0.0046 - binary_accuracy: 1.0000\n",
      "Epoch 138/150\n",
      " - 0s - loss: 0.0043 - binary_accuracy: 1.0000\n",
      "Epoch 139/150\n",
      " - 0s - loss: 0.0044 - binary_accuracy: 1.0000\n",
      "Epoch 140/150\n",
      " - 0s - loss: 0.0041 - binary_accuracy: 1.0000\n",
      "Epoch 141/150\n",
      " - 0s - loss: 0.0041 - binary_accuracy: 1.0000\n",
      "Epoch 142/150\n",
      " - 0s - loss: 0.0041 - binary_accuracy: 1.0000\n",
      "Epoch 143/150\n",
      " - 0s - loss: 0.0041 - binary_accuracy: 1.0000\n",
      "Epoch 144/150\n",
      " - 0s - loss: 0.0038 - binary_accuracy: 1.0000\n",
      "Epoch 145/150\n",
      " - 0s - loss: 0.0039 - binary_accuracy: 1.0000\n",
      "Epoch 146/150\n",
      " - 0s - loss: 0.0037 - binary_accuracy: 1.0000\n",
      "Epoch 147/150\n",
      " - 0s - loss: 0.0035 - binary_accuracy: 1.0000\n",
      "Epoch 148/150\n",
      " - 0s - loss: 0.0036 - binary_accuracy: 1.0000\n",
      "Epoch 149/150\n",
      " - 0s - loss: 0.0035 - binary_accuracy: 1.0000\n",
      "Epoch 150/150\n",
      " - 0s - loss: 0.0033 - binary_accuracy: 1.0000\n"
     ]
    }
   ],
   "source": [
    "from keras.models import Sequential\n",
    "from keras import layers\n",
    "from keras.metrics import binary_accuracy\n",
    "\n",
    "model = Sequential([\n",
    "    layers.Dense(1000, activation = \"relu\"),\n",
    "    layers.Dense(100, activation = \"tanh\"),\n",
    "    layers.Dense(500, activation = \"relu\"),\n",
    "    layers.Dense(2, activation = \"sigmoid\")\n",
    "])\n",
    "\n",
    "model.compile(loss='binary_crossentropy', optimizer='adagrad', metrics=[binary_accuracy])\n",
    "history = model.fit(X_tr, y_tr, epochs=150, batch_size=10, verbose=2)"
   ]
  },
  {
   "cell_type": "code",
   "execution_count": 18,
   "metadata": {},
   "outputs": [
    {
     "data": {
      "text/plain": [
       "[<matplotlib.lines.Line2D at 0x22ff8f76640>]"
      ]
     },
     "execution_count": 18,
     "metadata": {},
     "output_type": "execute_result"
    },
    {
     "data": {
      "image/png": "[encoded data removed]",
      "text/plain": [
       "<Figure size 432x288 with 1 Axes>"
      ]
     },
     "metadata": {
      "needs_background": "light"
     },
     "output_type": "display_data"
    }
   ],
   "source": [
    "plt.plot(history.history[\"loss\"])"
   ]
  },
  {
   "cell_type": "code",
   "execution_count": 19,
   "metadata": {},
   "outputs": [
    {
     "name": "stdout",
     "output_type": "stream",
     "text": [
      "[0.03419546 1.3391274 ]\n",
      "[0.03419553 1.33912784]\n"
     ]
    }
   ],
   "source": [
    "import numpy as np\n",
    "from keras.metrics import binary_crossentropy\n",
    "\n",
    "y_true = [[0, 1, 0], [0, 0, 1]]\n",
    "y_pred = [[0.05, 0.95, 0], [0.1, 0.8, 0.1]]\n",
    "\n",
    "print(binary_crossentropy(y_true, y_pred).numpy())\n",
    "print(BinaryCrossEntropy().loss(np.array(y_true), np.array(y_pred)))"
   ]
  },
  {
   "cell_type": "code",
   "execution_count": 10,
   "metadata": {},
   "outputs": [],
   "source": [
    "from sklearn.metrics import log_loss, accuracy_score\n"
   ]
  },
  {
   "cell_type": "code",
   "execution_count": 13,
   "metadata": {},
   "outputs": [
    {
     "data": {
      "text/plain": [
       "(0.7598425196850394, 0.7007874015748031)"
      ]
     },
     "execution_count": 13,
     "metadata": {},
     "output_type": "execute_result"
    }
   ],
   "source": [
    "import numpy as np\n",
    "outputs = np.round(nn.predict(X_t))\n",
    "keras_outputs = np.round(model.predict(X_t))\n",
    "accuracy_score(outputs, y_t), accuracy_score(keras_outputs, y_t)"
   ]
  },
  {
   "cell_type": "code",
   "execution_count": null,
   "metadata": {},
   "outputs": [],
   "source": []
  },
  {
   "cell_type": "code",
   "execution_count": null,
   "metadata": {},
   "outputs": [],
   "source": []
  }
 ],
 "metadata": {
  "kernelspec": {
   "display_name": "Python 3",
   "language": "python",
   "name": "python3"
  },
  "language_info": {
   "codemirror_mode": {
    "name": "ipython",
    "version": 3
   },
   "file_extension": ".py",
   "mimetype": "text/x-python",
   "name": "python",
   "nbconvert_exporter": "python",
   "pygments_lexer": "ipython3",
   "version": "3.7.3"
  }
 },
 "nbformat": 4,
 "nbformat_minor": 4
}
