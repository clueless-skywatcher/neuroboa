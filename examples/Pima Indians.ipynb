{
 "cells": [
  {
   "cell_type": "code",
   "execution_count": 1,
   "metadata": {},
   "outputs": [
    {
     "data": {
      "text/html": [
       "<div>\n",
       "<style scoped>\n",
       "    .dataframe tbody tr th:only-of-type {\n",
       "        vertical-align: middle;\n",
       "    }\n",
       "\n",
       "    .dataframe tbody tr th {\n",
       "        vertical-align: top;\n",
       "    }\n",
       "\n",
       "    .dataframe thead th {\n",
       "        text-align: right;\n",
       "    }\n",
       "</style>\n",
       "<table border=\"1\" class=\"dataframe\">\n",
       "  <thead>\n",
       "    <tr style=\"text-align: right;\">\n",
       "      <th></th>\n",
       "      <th>0</th>\n",
       "      <th>1</th>\n",
       "      <th>2</th>\n",
       "      <th>3</th>\n",
       "      <th>4</th>\n",
       "      <th>5</th>\n",
       "      <th>6</th>\n",
       "      <th>7</th>\n",
       "      <th>8</th>\n",
       "    </tr>\n",
       "  </thead>\n",
       "  <tbody>\n",
       "    <tr>\n",
       "      <th>0</th>\n",
       "      <td>6</td>\n",
       "      <td>148</td>\n",
       "      <td>72</td>\n",
       "      <td>35</td>\n",
       "      <td>0</td>\n",
       "      <td>33.6</td>\n",
       "      <td>0.627</td>\n",
       "      <td>50</td>\n",
       "      <td>1</td>\n",
       "    </tr>\n",
       "    <tr>\n",
       "      <th>1</th>\n",
       "      <td>1</td>\n",
       "      <td>85</td>\n",
       "      <td>66</td>\n",
       "      <td>29</td>\n",
       "      <td>0</td>\n",
       "      <td>26.6</td>\n",
       "      <td>0.351</td>\n",
       "      <td>31</td>\n",
       "      <td>0</td>\n",
       "    </tr>\n",
       "    <tr>\n",
       "      <th>2</th>\n",
       "      <td>8</td>\n",
       "      <td>183</td>\n",
       "      <td>64</td>\n",
       "      <td>0</td>\n",
       "      <td>0</td>\n",
       "      <td>23.3</td>\n",
       "      <td>0.672</td>\n",
       "      <td>32</td>\n",
       "      <td>1</td>\n",
       "    </tr>\n",
       "    <tr>\n",
       "      <th>3</th>\n",
       "      <td>1</td>\n",
       "      <td>89</td>\n",
       "      <td>66</td>\n",
       "      <td>23</td>\n",
       "      <td>94</td>\n",
       "      <td>28.1</td>\n",
       "      <td>0.167</td>\n",
       "      <td>21</td>\n",
       "      <td>0</td>\n",
       "    </tr>\n",
       "    <tr>\n",
       "      <th>4</th>\n",
       "      <td>0</td>\n",
       "      <td>137</td>\n",
       "      <td>40</td>\n",
       "      <td>35</td>\n",
       "      <td>168</td>\n",
       "      <td>43.1</td>\n",
       "      <td>2.288</td>\n",
       "      <td>33</td>\n",
       "      <td>1</td>\n",
       "    </tr>\n",
       "  </tbody>\n",
       "</table>\n",
       "</div>"
      ],
      "text/plain": [
       "   0    1   2   3    4     5      6   7  8\n",
       "0  6  148  72  35    0  33.6  0.627  50  1\n",
       "1  1   85  66  29    0  26.6  0.351  31  0\n",
       "2  8  183  64   0    0  23.3  0.672  32  1\n",
       "3  1   89  66  23   94  28.1  0.167  21  0\n",
       "4  0  137  40  35  168  43.1  2.288  33  1"
      ]
     },
     "execution_count": 1,
     "metadata": {},
     "output_type": "execute_result"
    }
   ],
   "source": [
    "import pandas as pd\n",
    "data = pd.read_csv(\"pima-indians-diabetes.data.csv\", header = None)\n",
    "data.head()"
   ]
  },
  {
   "cell_type": "code",
   "execution_count": 2,
   "metadata": {},
   "outputs": [
    {
     "data": {
      "text/plain": [
       "((768, 8), (768,))"
      ]
     },
     "execution_count": 2,
     "metadata": {},
     "output_type": "execute_result"
    }
   ],
   "source": [
    "X = data.iloc[:, :-1]\n",
    "y = data.iloc[:, 8]\n",
    "X.shape, y.shape"
   ]
  },
  {
   "cell_type": "code",
   "execution_count": 3,
   "metadata": {},
   "outputs": [],
   "source": [
    "from neuroboa.nn import NN\n",
    "from neuroboa.layers import Dense, Activation\n",
    "from neuroboa.optims import Adam, SGD, Adagrad\n",
    "from neuroboa.functions import ReLU, Sigmoid, Swish, Softmax, Tanh\n",
    "from neuroboa.losses import BinaryCrossEntropy, MSE\n",
    "from neuroboa.constants import TQDM_NOTEBOOK, TQDM_TERMINAL"
   ]
  },
  {
   "cell_type": "code",
   "execution_count": 4,
   "metadata": {},
   "outputs": [
    {
     "data": {
      "text/plain": [
       "array([[ 0.63994726,  0.84832379,  0.14964075, ...,  0.20401277,\n",
       "         0.46849198,  1.4259954 ],\n",
       "       [-0.84488505, -1.12339636, -0.16054575, ..., -0.68442195,\n",
       "        -0.36506078, -0.19067191],\n",
       "       [ 1.23388019,  1.94372388, -0.26394125, ..., -1.10325546,\n",
       "         0.60439732, -0.10558415],\n",
       "       ...,\n",
       "       [ 0.3429808 ,  0.00330087,  0.14964075, ..., -0.73518964,\n",
       "        -0.68519336, -0.27575966],\n",
       "       [-0.84488505,  0.1597866 , -0.47073225, ..., -0.24020459,\n",
       "        -0.37110101,  1.17073215],\n",
       "       [-0.84488505, -0.8730192 ,  0.04624525, ..., -0.20212881,\n",
       "        -0.47378505, -0.87137393]])"
      ]
     },
     "execution_count": 4,
     "metadata": {},
     "output_type": "execute_result"
    }
   ],
   "source": [
    "from sklearn.preprocessing import OneHotEncoder, StandardScaler\n",
    "one_hot = OneHotEncoder()\n",
    "fit = one_hot.fit(y.values.reshape(-1, 1))\n",
    "labels = fit.transform(y.values.reshape(-1, 1))\n",
    "labels.toarray()\n",
    "\n",
    "scaler = StandardScaler()\n",
    "X = scaler.fit_transform(X)\n",
    "X"
   ]
  },
  {
   "cell_type": "code",
   "execution_count": 5,
   "metadata": {},
   "outputs": [],
   "source": [
    "from sklearn.model_selection import train_test_split\n",
    "\n",
    "X_tr, X_t, y_tr, y_t = train_test_split(X, labels.toarray(), test_size = 0.33, random_state = 42)"
   ]
  },
  {
   "cell_type": "code",
   "execution_count": 6,
   "metadata": {},
   "outputs": [
    {
     "data": {
      "text/plain": [
       "(514, 2)"
      ]
     },
     "execution_count": 6,
     "metadata": {},
     "output_type": "execute_result"
    }
   ],
   "source": [
    "y_tr.shape"
   ]
  },
  {
   "cell_type": "code",
   "execution_count": 15,
   "metadata": {},
   "outputs": [
    {
     "name": "stderr",
     "output_type": "stream",
     "text": [
      "Epoch: 150: 100%|██████████████████████████████████████████████████████████████████████████████████████████████████| 150/150 [00:01<00:00, 87.89it/s]\n"
     ]
    }
   ],
   "source": [
    "nn = NN([\n",
    "    Dense(1000, input_shape = (8, )),\n",
    "    Activation(ReLU()),\n",
    "    Dense(100),\n",
    "    Activation(Tanh()),\n",
    "    Dense(500),\n",
    "    Activation(ReLU()),\n",
    "    Dense(2),\n",
    "    Activation(Sigmoid())\n",
    "])\n",
    "\n",
    "nn.fit(X_tr, y_tr, epochs = 150, batch_size = 10, optimizer = Adagrad(), loss = BinaryCrossEntropy(), show_progress = TQDM_TERMINAL)"
   ]
  },
  {
   "cell_type": "code",
   "execution_count": 16,
   "metadata": {},
   "outputs": [
    {
     "name": "stdout",
     "output_type": "stream",
     "text": [
      "Plot: True\n"
     ]
    },
    {
     "data": {
      "text/plain": [
       "[<matplotlib.lines.Line2D at 0x22ff8bc7940>]"
      ]
     },
     "execution_count": 16,
     "metadata": {},
     "output_type": "execute_result"
    },
    {
     "data": {
      "image/png": "[encoded data removed]",
      "text/plain": [
       "<Figure size 432x288 with 1 Axes>"
      ]
     },
     "metadata": {
      "needs_background": "light"
     },
     "output_type": "display_data"
    }
   ],
   "source": [
    "import matplotlib.pyplot as plt\n",
    "import numpy as np\n",
    "loss_list = nn.get_loss_list()\n",
    "plt.plot(range(len(loss_list)), loss_list)"
   ]
  },
  {
   "cell_type": "code",
   "execution_count": 17,
   "metadata": {},
   "outputs": [
    {
     "name": "stdout",
     "output_type": "stream",
     "text": [
      "Epoch 1/150\n",
      "52/52 - 1s - loss: 0.6864 - binary_accuracy: 0.6226\n",
      "Epoch 2/150\n",
      "52/52 - 0s - loss: 0.6792 - binary_accuracy: 0.7043\n",
      "Epoch 3/150\n",
      "52/52 - 0s - loss: 0.6727 - binary_accuracy: 0.7325\n",
      "Epoch 4/150\n",
      "52/52 - 0s - loss: 0.6665 - binary_accuracy: 0.7325\n",
      "Epoch 5/150\n",
      "52/52 - 0s - loss: 0.6601 - binary_accuracy: 0.7296\n",
      "Epoch 6/150\n",
      "52/52 - 0s - loss: 0.6537 - binary_accuracy: 0.7247\n",
      "Epoch 7/150\n",
      "52/52 - 0s - loss: 0.6474 - binary_accuracy: 0.7286\n",
      "Epoch 8/150\n",
      "52/52 - 0s - loss: 0.6410 - binary_accuracy: 0.7315\n",
      "Epoch 9/150\n",
      "52/52 - 0s - loss: 0.6345 - binary_accuracy: 0.7296\n",
      "Epoch 10/150\n",
      "52/52 - 0s - loss: 0.6279 - binary_accuracy: 0.7315\n",
      "Epoch 11/150\n",
      "52/52 - 0s - loss: 0.6214 - binary_accuracy: 0.7335\n",
      "Epoch 12/150\n",
      "52/52 - 0s - loss: 0.6146 - binary_accuracy: 0.7354\n",
      "Epoch 13/150\n",
      "52/52 - 0s - loss: 0.6076 - binary_accuracy: 0.7344\n",
      "Epoch 14/150\n",
      "52/52 - 0s - loss: 0.6007 - binary_accuracy: 0.7354\n",
      "Epoch 15/150\n",
      "52/52 - 0s - loss: 0.5937 - binary_accuracy: 0.7374\n",
      "Epoch 16/150\n",
      "52/52 - 0s - loss: 0.5868 - binary_accuracy: 0.7393\n",
      "Epoch 17/150\n",
      "52/52 - 0s - loss: 0.5799 - binary_accuracy: 0.7461\n",
      "Epoch 18/150\n",
      "52/52 - 0s - loss: 0.5731 - binary_accuracy: 0.7471\n",
      "Epoch 19/150\n",
      "52/52 - 0s - loss: 0.5663 - binary_accuracy: 0.7519\n",
      "Epoch 20/150\n",
      "52/52 - 0s - loss: 0.5597 - binary_accuracy: 0.7500\n",
      "Epoch 21/150\n",
      "52/52 - 0s - loss: 0.5532 - binary_accuracy: 0.7568\n",
      "Epoch 22/150\n",
      "52/52 - 0s - loss: 0.5471 - binary_accuracy: 0.7578\n",
      "Epoch 23/150\n",
      "52/52 - 0s - loss: 0.5412 - binary_accuracy: 0.7588\n",
      "Epoch 24/150\n",
      "52/52 - 0s - loss: 0.5354 - binary_accuracy: 0.7617\n",
      "Epoch 25/150\n",
      "52/52 - 0s - loss: 0.5298 - binary_accuracy: 0.7607\n",
      "Epoch 26/150\n",
      "52/52 - 0s - loss: 0.5246 - binary_accuracy: 0.7665\n",
      "Epoch 27/150\n",
      "52/52 - 0s - loss: 0.5197 - binary_accuracy: 0.7695\n",
      "Epoch 28/150\n",
      "52/52 - 0s - loss: 0.5150 - binary_accuracy: 0.7704\n",
      "Epoch 29/150\n",
      "52/52 - 0s - loss: 0.5104 - binary_accuracy: 0.7714\n",
      "Epoch 30/150\n",
      "52/52 - 0s - loss: 0.5061 - binary_accuracy: 0.7714\n",
      "Epoch 31/150\n",
      "52/52 - 0s - loss: 0.5020 - binary_accuracy: 0.7714\n",
      "Epoch 32/150\n",
      "52/52 - 0s - loss: 0.4981 - binary_accuracy: 0.7733\n",
      "Epoch 33/150\n",
      "52/52 - 0s - loss: 0.4944 - binary_accuracy: 0.7743\n",
      "Epoch 34/150\n",
      "52/52 - 0s - loss: 0.4911 - binary_accuracy: 0.7782\n",
      "Epoch 35/150\n",
      "52/52 - 0s - loss: 0.4879 - binary_accuracy: 0.7811\n",
      "Epoch 36/150\n",
      "52/52 - 0s - loss: 0.4849 - binary_accuracy: 0.7831\n",
      "Epoch 37/150\n",
      "52/52 - 0s - loss: 0.4819 - binary_accuracy: 0.7831\n",
      "Epoch 38/150\n",
      "52/52 - 0s - loss: 0.4793 - binary_accuracy: 0.7811\n",
      "Epoch 39/150\n",
      "52/52 - 0s - loss: 0.4767 - binary_accuracy: 0.7821\n",
      "Epoch 40/150\n",
      "52/52 - 0s - loss: 0.4744 - binary_accuracy: 0.7821\n",
      "Epoch 41/150\n",
      "52/52 - 0s - loss: 0.4722 - binary_accuracy: 0.7831\n",
      "Epoch 42/150\n",
      "52/52 - 0s - loss: 0.4700 - binary_accuracy: 0.7831\n",
      "Epoch 43/150\n",
      "52/52 - 0s - loss: 0.4680 - binary_accuracy: 0.7840\n",
      "Epoch 44/150\n",
      "52/52 - 0s - loss: 0.4661 - binary_accuracy: 0.7840\n",
      "Epoch 45/150\n",
      "52/52 - 0s - loss: 0.4644 - binary_accuracy: 0.7850\n",
      "Epoch 46/150\n",
      "52/52 - 0s - loss: 0.4626 - binary_accuracy: 0.7831\n",
      "Epoch 47/150\n",
      "52/52 - 0s - loss: 0.4610 - binary_accuracy: 0.7840\n",
      "Epoch 48/150\n",
      "52/52 - 0s - loss: 0.4595 - binary_accuracy: 0.7840\n",
      "Epoch 49/150\n",
      "52/52 - 0s - loss: 0.4580 - binary_accuracy: 0.7840\n",
      "Epoch 50/150\n",
      "52/52 - 0s - loss: 0.4567 - binary_accuracy: 0.7850\n",
      "Epoch 51/150\n",
      "52/52 - 0s - loss: 0.4554 - binary_accuracy: 0.7840\n",
      "Epoch 52/150\n",
      "52/52 - 0s - loss: 0.4543 - binary_accuracy: 0.7840\n",
      "Epoch 53/150\n",
      "52/52 - 0s - loss: 0.4531 - binary_accuracy: 0.7840\n",
      "Epoch 54/150\n",
      "52/52 - 0s - loss: 0.4519 - binary_accuracy: 0.7840\n",
      "Epoch 55/150\n",
      "52/52 - 0s - loss: 0.4508 - binary_accuracy: 0.7860\n",
      "Epoch 56/150\n",
      "52/52 - 0s - loss: 0.4497 - binary_accuracy: 0.7860\n",
      "Epoch 57/150\n",
      "52/52 - 0s - loss: 0.4488 - binary_accuracy: 0.7840\n",
      "Epoch 58/150\n",
      "52/52 - 0s - loss: 0.4478 - binary_accuracy: 0.7850\n",
      "Epoch 59/150\n",
      "52/52 - 0s - loss: 0.4469 - binary_accuracy: 0.7840\n",
      "Epoch 60/150\n",
      "52/52 - 0s - loss: 0.4460 - binary_accuracy: 0.7860\n",
      "Epoch 61/150\n",
      "52/52 - 0s - loss: 0.4451 - binary_accuracy: 0.7850\n",
      "Epoch 62/150\n",
      "52/52 - 0s - loss: 0.4443 - binary_accuracy: 0.7850\n",
      "Epoch 63/150\n",
      "52/52 - 0s - loss: 0.4436 - binary_accuracy: 0.7860\n",
      "Epoch 64/150\n",
      "52/52 - 0s - loss: 0.4429 - binary_accuracy: 0.7860\n",
      "Epoch 65/150\n",
      "52/52 - 0s - loss: 0.4421 - binary_accuracy: 0.7870\n",
      "Epoch 66/150\n",
      "52/52 - 0s - loss: 0.4415 - binary_accuracy: 0.7879\n",
      "Epoch 67/150\n",
      "52/52 - 0s - loss: 0.4407 - binary_accuracy: 0.7889\n",
      "Epoch 68/150\n",
      "52/52 - 0s - loss: 0.4400 - binary_accuracy: 0.7899\n",
      "Epoch 69/150\n",
      "52/52 - 0s - loss: 0.4394 - binary_accuracy: 0.7879\n",
      "Epoch 70/150\n",
      "52/52 - 0s - loss: 0.4388 - binary_accuracy: 0.7889\n",
      "Epoch 71/150\n",
      "52/52 - 0s - loss: 0.4382 - binary_accuracy: 0.7889\n",
      "Epoch 72/150\n",
      "52/52 - 0s - loss: 0.4376 - binary_accuracy: 0.7889\n",
      "Epoch 73/150\n",
      "52/52 - 0s - loss: 0.4371 - binary_accuracy: 0.7889\n",
      "Epoch 74/150\n",
      "52/52 - 0s - loss: 0.4366 - binary_accuracy: 0.7879\n",
      "Epoch 75/150\n",
      "52/52 - 0s - loss: 0.4361 - binary_accuracy: 0.7899\n",
      "Epoch 76/150\n",
      "52/52 - 0s - loss: 0.4355 - binary_accuracy: 0.7889\n",
      "Epoch 77/150\n",
      "52/52 - 0s - loss: 0.4349 - binary_accuracy: 0.7899\n",
      "Epoch 78/150\n",
      "52/52 - 0s - loss: 0.4344 - binary_accuracy: 0.7918\n",
      "Epoch 79/150\n",
      "52/52 - 0s - loss: 0.4339 - binary_accuracy: 0.7918\n",
      "Epoch 80/150\n",
      "52/52 - 0s - loss: 0.4334 - binary_accuracy: 0.7938\n",
      "Epoch 81/150\n",
      "52/52 - 0s - loss: 0.4330 - binary_accuracy: 0.7928\n",
      "Epoch 82/150\n",
      "52/52 - 0s - loss: 0.4325 - binary_accuracy: 0.7957\n",
      "Epoch 83/150\n",
      "52/52 - 0s - loss: 0.4320 - binary_accuracy: 0.7947\n",
      "Epoch 84/150\n",
      "52/52 - 0s - loss: 0.4316 - binary_accuracy: 0.7918\n",
      "Epoch 85/150\n",
      "52/52 - 0s - loss: 0.4312 - binary_accuracy: 0.7928\n",
      "Epoch 86/150\n",
      "52/52 - 0s - loss: 0.4307 - binary_accuracy: 0.7928\n",
      "Epoch 87/150\n",
      "52/52 - 0s - loss: 0.4304 - binary_accuracy: 0.7928\n",
      "Epoch 88/150\n",
      "52/52 - 0s - loss: 0.4299 - binary_accuracy: 0.7996\n",
      "Epoch 89/150\n",
      "52/52 - 0s - loss: 0.4295 - binary_accuracy: 0.7957\n",
      "Epoch 90/150\n",
      "52/52 - 0s - loss: 0.4291 - binary_accuracy: 0.7938\n",
      "Epoch 91/150\n",
      "52/52 - 0s - loss: 0.4286 - binary_accuracy: 0.7967\n",
      "Epoch 92/150\n",
      "52/52 - 0s - loss: 0.4283 - binary_accuracy: 0.7977\n",
      "Epoch 93/150\n",
      "52/52 - 0s - loss: 0.4280 - binary_accuracy: 0.7947\n",
      "Epoch 94/150\n",
      "52/52 - 0s - loss: 0.4276 - binary_accuracy: 0.7967\n",
      "Epoch 95/150\n",
      "52/52 - 0s - loss: 0.4272 - binary_accuracy: 0.7957\n",
      "Epoch 96/150\n",
      "52/52 - 0s - loss: 0.4268 - binary_accuracy: 0.7957\n",
      "Epoch 97/150\n",
      "52/52 - 0s - loss: 0.4264 - binary_accuracy: 0.7986\n",
      "Epoch 98/150\n",
      "52/52 - 0s - loss: 0.4261 - binary_accuracy: 0.7986\n",
      "Epoch 99/150\n",
      "52/52 - 0s - loss: 0.4257 - binary_accuracy: 0.7967\n",
      "Epoch 100/150\n",
      "52/52 - 0s - loss: 0.4253 - binary_accuracy: 0.7986\n",
      "Epoch 101/150\n",
      "52/52 - 0s - loss: 0.4251 - binary_accuracy: 0.7986\n",
      "Epoch 102/150\n",
      "52/52 - 0s - loss: 0.4247 - binary_accuracy: 0.8006\n",
      "Epoch 103/150\n",
      "52/52 - 0s - loss: 0.4243 - binary_accuracy: 0.8016\n",
      "Epoch 104/150\n",
      "52/52 - 0s - loss: 0.4241 - binary_accuracy: 0.7996\n",
      "Epoch 105/150\n",
      "52/52 - 0s - loss: 0.4237 - binary_accuracy: 0.8006\n",
      "Epoch 106/150\n",
      "52/52 - 0s - loss: 0.4234 - binary_accuracy: 0.8006\n",
      "Epoch 107/150\n",
      "52/52 - 0s - loss: 0.4231 - binary_accuracy: 0.8006\n",
      "Epoch 108/150\n",
      "52/52 - 0s - loss: 0.4228 - binary_accuracy: 0.8006\n",
      "Epoch 109/150\n",
      "52/52 - 0s - loss: 0.4225 - binary_accuracy: 0.7996\n",
      "Epoch 110/150\n",
      "52/52 - 0s - loss: 0.4221 - binary_accuracy: 0.7977\n",
      "Epoch 111/150\n",
      "52/52 - 0s - loss: 0.4219 - binary_accuracy: 0.7996\n",
      "Epoch 112/150\n",
      "52/52 - 0s - loss: 0.4216 - binary_accuracy: 0.7986\n",
      "Epoch 113/150\n",
      "52/52 - 0s - loss: 0.4212 - binary_accuracy: 0.8006\n",
      "Epoch 114/150\n",
      "52/52 - 0s - loss: 0.4210 - binary_accuracy: 0.8006\n",
      "Epoch 115/150\n",
      "52/52 - 0s - loss: 0.4207 - binary_accuracy: 0.7996\n",
      "Epoch 116/150\n",
      "52/52 - 0s - loss: 0.4203 - binary_accuracy: 0.7996\n",
      "Epoch 117/150\n",
      "52/52 - 0s - loss: 0.4201 - binary_accuracy: 0.8016\n",
      "Epoch 118/150\n",
      "52/52 - 0s - loss: 0.4198 - binary_accuracy: 0.7986\n",
      "Epoch 119/150\n",
      "52/52 - 0s - loss: 0.4194 - binary_accuracy: 0.8006\n",
      "Epoch 120/150\n",
      "52/52 - 0s - loss: 0.4192 - binary_accuracy: 0.7996\n",
      "Epoch 121/150\n",
      "52/52 - 0s - loss: 0.4189 - binary_accuracy: 0.7996\n",
      "Epoch 122/150\n",
      "52/52 - 0s - loss: 0.4186 - binary_accuracy: 0.7986\n",
      "Epoch 123/150\n",
      "52/52 - 0s - loss: 0.4184 - binary_accuracy: 0.7986\n",
      "Epoch 124/150\n",
      "52/52 - 0s - loss: 0.4181 - binary_accuracy: 0.8006\n",
      "Epoch 125/150\n",
      "52/52 - 0s - loss: 0.4178 - binary_accuracy: 0.8016\n",
      "Epoch 126/150\n",
      "52/52 - 0s - loss: 0.4175 - binary_accuracy: 0.8006\n"
     ]
    },
    {
     "name": "stdout",
     "output_type": "stream",
     "text": [
      "Epoch 127/150\n",
      "52/52 - 0s - loss: 0.4173 - binary_accuracy: 0.8016\n",
      "Epoch 128/150\n",
      "52/52 - 0s - loss: 0.4171 - binary_accuracy: 0.8016\n",
      "Epoch 129/150\n",
      "52/52 - 0s - loss: 0.4168 - binary_accuracy: 0.8006\n",
      "Epoch 130/150\n",
      "52/52 - 0s - loss: 0.4164 - binary_accuracy: 0.8016\n",
      "Epoch 131/150\n",
      "52/52 - 0s - loss: 0.4162 - binary_accuracy: 0.8035\n",
      "Epoch 132/150\n",
      "52/52 - 0s - loss: 0.4159 - binary_accuracy: 0.8045\n",
      "Epoch 133/150\n",
      "52/52 - 0s - loss: 0.4158 - binary_accuracy: 0.8016\n",
      "Epoch 134/150\n",
      "52/52 - 0s - loss: 0.4154 - binary_accuracy: 0.8045\n",
      "Epoch 135/150\n",
      "52/52 - 0s - loss: 0.4151 - binary_accuracy: 0.8035\n",
      "Epoch 136/150\n",
      "52/52 - 0s - loss: 0.4149 - binary_accuracy: 0.8025\n",
      "Epoch 137/150\n",
      "52/52 - 0s - loss: 0.4146 - binary_accuracy: 0.8054\n",
      "Epoch 138/150\n",
      "52/52 - 0s - loss: 0.4143 - binary_accuracy: 0.8035\n",
      "Epoch 139/150\n",
      "52/52 - 0s - loss: 0.4141 - binary_accuracy: 0.8045\n",
      "Epoch 140/150\n",
      "52/52 - 0s - loss: 0.4139 - binary_accuracy: 0.8025\n",
      "Epoch 141/150\n",
      "52/52 - 0s - loss: 0.4136 - binary_accuracy: 0.8045\n",
      "Epoch 142/150\n",
      "52/52 - 0s - loss: 0.4134 - binary_accuracy: 0.8045\n",
      "Epoch 143/150\n",
      "52/52 - 0s - loss: 0.4132 - binary_accuracy: 0.8016\n",
      "Epoch 144/150\n",
      "52/52 - 0s - loss: 0.4129 - binary_accuracy: 0.8035\n",
      "Epoch 145/150\n",
      "52/52 - 0s - loss: 0.4127 - binary_accuracy: 0.8045\n",
      "Epoch 146/150\n",
      "52/52 - 0s - loss: 0.4124 - binary_accuracy: 0.8054\n",
      "Epoch 147/150\n",
      "52/52 - 0s - loss: 0.4121 - binary_accuracy: 0.8054\n",
      "Epoch 148/150\n",
      "52/52 - 0s - loss: 0.4119 - binary_accuracy: 0.8054\n",
      "Epoch 149/150\n",
      "52/52 - 0s - loss: 0.4117 - binary_accuracy: 0.8035\n",
      "Epoch 150/150\n",
      "52/52 - 0s - loss: 0.4114 - binary_accuracy: 0.8025\n"
     ]
    }
   ],
   "source": [
    "from keras.models import Sequential\n",
    "from keras import layers\n",
    "from keras.metrics import binary_accuracy\n",
    "\n",
    "model = Sequential([\n",
    "    layers.Dense(1000, activation = \"relu\"),\n",
    "    layers.Dense(100, activation = \"tanh\"),\n",
    "    layers.Dense(500, activation = \"relu\"),\n",
    "    layers.Dense(2, activation = \"sigmoid\")\n",
    "])\n",
    "\n",
    "model.compile(loss='binary_crossentropy', optimizer='adagrad', metrics=[binary_accuracy])\n",
    "history = model.fit(X_tr, y_tr, epochs=150, batch_size=10, verbose=2)"
   ]
  },
  {
   "cell_type": "code",
   "execution_count": 18,
   "metadata": {},
   "outputs": [
    {
     "data": {
      "text/plain": [
       "[<matplotlib.lines.Line2D at 0x22ff8f76640>]"
      ]
     },
     "execution_count": 18,
     "metadata": {},
     "output_type": "execute_result"
    },
    {
     "data": {
      "image/png": "[encoded data removed]",
      "text/plain": [
       "<Figure size 432x288 with 1 Axes>"
      ]
     },
     "metadata": {
      "needs_background": "light"
     },
     "output_type": "display_data"
    }
   ],
   "source": [
    "plt.plot(history.history[\"loss\"])"
   ]
  },
  {
   "cell_type": "code",
   "execution_count": 19,
   "metadata": {},
   "outputs": [
    {
     "name": "stdout",
     "output_type": "stream",
     "text": [
      "[0.03419546 1.3391274 ]\n",
      "[0.03419553 1.33912784]\n"
     ]
    }
   ],
   "source": [
    "import numpy as np\n",
    "from keras.metrics import binary_crossentropy\n",
    "\n",
    "y_true = [[0, 1, 0], [0, 0, 1]]\n",
    "y_pred = [[0.05, 0.95, 0], [0.1, 0.8, 0.1]]\n",
    "\n",
    "print(binary_crossentropy(y_true, y_pred).numpy())\n",
    "print(BinaryCrossEntropy().loss(np.array(y_true), np.array(y_pred)))"
   ]
  },
  {
   "cell_type": "code",
   "execution_count": 20,
   "metadata": {},
   "outputs": [],
   "source": [
    "from sklearn.metrics import log_loss, accuracy_score\n"
   ]
  },
  {
   "cell_type": "code",
   "execution_count": 21,
   "metadata": {},
   "outputs": [
    {
     "data": {
      "text/plain": [
       "(0.0, 0.7598425196850394)"
      ]
     },
     "execution_count": 21,
     "metadata": {},
     "output_type": "execute_result"
    }
   ],
   "source": [
    "import numpy as np\n",
    "outputs = np.round(nn.predict(X_t))\n",
    "keras_outputs = np.round(model.predict(X_t))\n",
    "accuracy_score(outputs, y_t), accuracy_score(keras_outputs, y_t)"
   ]
  },
  {
   "cell_type": "code",
   "execution_count": null,
   "metadata": {},
   "outputs": [],
   "source": []
  },
  {
   "cell_type": "code",
   "execution_count": null,
   "metadata": {},
   "outputs": [],
   "source": []
  }
 ],
 "metadata": {
  "kernelspec": {
   "display_name": "Python 3",
   "language": "python",
   "name": "python3"
  },
  "language_info": {
   "codemirror_mode": {
    "name": "ipython",
    "version": 3
   },
   "file_extension": ".py",
   "mimetype": "text/x-python",
   "name": "python",
   "nbconvert_exporter": "python",
   "pygments_lexer": "ipython3",
   "version": "3.8.5"
  }
 },
 "nbformat": 4,
 "nbformat_minor": 4
}
