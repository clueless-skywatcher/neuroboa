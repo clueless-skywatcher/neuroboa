{
 "cells": [
  {
   "cell_type": "code",
   "execution_count": 1,
   "metadata": {},
   "outputs": [
    {
     "name": "stderr",
     "output_type": "stream",
     "text": [
      "Epoch: 2000: 100%|██████████| 2000/2000 [00:06<00:00, 302.19it/s]\n"
     ]
    }
   ],
   "source": [
    "import sys\n",
    "sys.path.append(\"/mnt/d/GitHub/neuroboa/\")\n",
    "\n",
    "from neuroboa.nn import NN\n",
    "from neuroboa.layers import Dense, Activation\n",
    "from neuroboa.functions import ReLU, Tanh, Sigmoid\n",
    "from neuroboa.optims import SGD\n",
    "from neuroboa.constants import TQDM_NOTEBOOK, TQDM_TERMINAL\n",
    "\n",
    "import numpy as np\n",
    "\n",
    "inputs = np.array([\n",
    "    [0, 0],\n",
    "    [0, 1],\n",
    "    [1, 0],\n",
    "    [1, 1]\n",
    "])\n",
    "\n",
    "outputs = np.array([\n",
    "    [1, 0],\n",
    "    [0, 1],\n",
    "    [0, 1],\n",
    "    [1, 0]\n",
    "])\n",
    "\n",
    "nn = NN()\n",
    "nn.add(Dense(50, input_shape = (2,)))\n",
    "nn.add(Activation(Tanh()))\n",
    "nn.add(Dense(2))\n",
    "nn.add(Activation(Sigmoid()))\n",
    "\n",
    "nn.fit(inputs, outputs, batch_size = 32, optimizer = SGD(lr = 0.01), epochs = 2000, show_progress = TQDM_TERMINAL)"
   ]
  },
  {
   "cell_type": "code",
   "execution_count": 2,
   "metadata": {},
   "outputs": [
    {
     "name": "stdout",
     "output_type": "stream",
     "text": [
      "Plot: True\n"
     ]
    },
    {
     "data": {
      "text/plain": [
       "[<matplotlib.lines.Line2D at 0x7fe6373b3860>]"
      ]
     },
     "execution_count": 2,
     "metadata": {},
     "output_type": "execute_result"
    },
    {
     "data": {
      "image/png": "[encoded data removed]",
      "text/plain": [
       "<Figure size 640x480 with 1 Axes>"
      ]
     },
     "metadata": {},
     "output_type": "display_data"
    }
   ],
   "source": [
    "import matplotlib.pyplot as plt\n",
    "\n",
    "loss = nn.get_loss_list()\n",
    "\n",
    "plt.plot(range(len(loss)), loss)"
   ]
  },
  {
   "cell_type": "code",
   "execution_count": 3,
   "metadata": {},
   "outputs": [
    {
     "data": {
      "text/plain": [
       "array([[0., 1.],\n",
       "       [0., 1.],\n",
       "       [1., 0.],\n",
       "       [1., 0.]])"
      ]
     },
     "execution_count": 3,
     "metadata": {},
     "output_type": "execute_result"
    }
   ],
   "source": [
    "np.round(nn.predict(np.array([[0, 1], [1, 0], [1, 1], [0, 0]])))"
   ]
  },
  {
   "cell_type": "code",
   "execution_count": 4,
   "metadata": {},
   "outputs": [
    {
     "name": "stdout",
     "output_type": "stream",
     "text": [
      "Layers:\n",
      "+------------+---------+-------+\n",
      "| Dense      | 50      | (2,)  |\n",
      "| Activation | Tanh    |       |\n",
      "| Dense      | 2       | (50,) |\n",
      "| Activation | Sigmoid |       |\n",
      "+------------+---------+-------+\n"
     ]
    }
   ],
   "source": [
    "nn.overview()"
   ]
  },
  {
   "cell_type": "code",
   "execution_count": null,
   "metadata": {},
   "outputs": [],
   "source": []
  }
 ],
 "metadata": {
  "kernelspec": {
   "display_name": "Python 3.7.0 ('torchenv')",
   "language": "python",
   "name": "python3"
  },
  "language_info": {
   "codemirror_mode": {
    "name": "ipython",
    "version": 3
   },
   "file_extension": ".py",
   "mimetype": "text/x-python",
   "name": "python",
   "nbconvert_exporter": "python",
   "pygments_lexer": "ipython3",
   "version": "3.7.0"
  },
  "orig_nbformat": 4,
  "vscode": {
   "interpreter": {
    "hash": "d484348adf89191a51a0cd9c312c9a253759bdae5e024e8415a8e9cf9507d75e"
   }
  }
 },
 "nbformat": 4,
 "nbformat_minor": 2
}
